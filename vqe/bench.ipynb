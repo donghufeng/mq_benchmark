{
 "cells": [
  {
   "cell_type": "code",
   "execution_count": 2,
   "metadata": {},
   "outputs": [],
   "source": [
    "import os\n",
    "os.environ[\"OMP_NUMBER_THREADS\"] = \"3\"\n",
    "\n",
    "import numpy as np\n",
    "from openfermion.chem import MolecularData\n",
    "from openfermionpyscf import run_pyscf\n",
    "import mindquantum as mq\n",
    "from mindquantum import Circuit, X, RX, Hamiltonian, Simulator\n",
    "from mindquantum.algorithm import generate_uccsd\n",
    "import mindspore as ms\n",
    "import mindspore.context as context\n",
    "from mindspore.common.parameter import Parameter\n",
    "from mindspore.common.initializer import initializer\n",
    "\n",
    "context.set_context(mode=context.PYNATIVE_MODE, device_target=\"CPU\")"
   ]
  },
  {
   "cell_type": "code",
   "execution_count": 19,
   "metadata": {},
   "outputs": [
    {
     "name": "stdout",
     "output_type": "stream",
     "text": [
      "Geometry:  [('H', (0, 0, 0.0)), ('H', (0, 0, 1.3)), ('H', (0, 0, 2.6)), ('H', (0, 0, 3.9000000000000004)), ('H', (0, 0, 5.2)), ('H', (0, 0, 6.5))]\n"
     ]
    }
   ],
   "source": [
    "# dist = 1.5\n",
    "# geometry = [[\"Li\", [0.0, 0.0, 0.0 * dist]],\n",
    "#             [\"H\" , [0.0, 0.0, 1.0 * dist]]]\n",
    "# # basis = \"sto3g\"\n",
    "# # basis = \"cc-pvtz\"\n",
    "# basis = \"6-31g\"\n",
    "# spin = 0\n",
    "# print(\"Geometry: \", geometry)\n",
    "\n",
    "n_hydrogens = 6\n",
    "bond_distance = 1.3\n",
    "basis = \"sto3g\"\n",
    "geometry = [('H', (0, 0, i * bond_distance)) \n",
    "    for i in range(n_hydrogens)]\n",
    "print(\"Geometry: \", geometry)"
   ]
  },
  {
   "cell_type": "code",
   "execution_count": 20,
   "metadata": {},
   "outputs": [
    {
     "name": "stdout",
     "output_type": "stream",
     "text": [
      "Hartree-Fock energy:  -3.1025910099104959 Ha\n",
      "CCSD energy:  -3.2333624471067126 Ha\n",
      "FCI  energy:  -3.2345501055621719 Ha\n"
     ]
    }
   ],
   "source": [
    "# molecule_of = MolecularData(\n",
    "#     geometry, \n",
    "#     basis, \n",
    "#     multiplicity=2*spin+1\n",
    "# )\n",
    "\n",
    "molecule_of = MolecularData(\n",
    "    geometry=geometry,\n",
    "    charge=0,\n",
    "    basis=basis,\n",
    "    multiplicity=1,\n",
    "    description=f\"linear_r-{bond_distance}\"\n",
    ")\n",
    "\n",
    "molecule_of = run_pyscf(\n",
    "    molecule_of, \n",
    "    run_scf=1, \n",
    "    run_ccsd=1, \n",
    "    run_fci=1\n",
    ")\n",
    "\n",
    "print(\"Hartree-Fock energy: %20.16f Ha\" % (molecule_of.hf_energy))\n",
    "print(\"CCSD energy: %20.16f Ha\" % (molecule_of.ccsd_energy))\n",
    "print(\"FCI  energy: %20.16f Ha\" % (molecule_of.fci_energy))"
   ]
  },
  {
   "cell_type": "code",
   "execution_count": 21,
   "metadata": {},
   "outputs": [
    {
     "name": "stdout",
     "output_type": "stream",
     "text": [
      "/home/zhuyk6/.pyenv/versions/3.7.5/lib/python3.7/site-packages/openfermion/testing/data/H6_6-31g_singlet_linear_r-1.3\n"
     ]
    }
   ],
   "source": [
    "molecule_of.save()\n",
    "molecule_file = molecule_of.filename\n",
    "print(molecule_file)"
   ]
  },
  {
   "cell_type": "code",
   "execution_count": 22,
   "metadata": {},
   "outputs": [
    {
     "name": "stdout",
     "output_type": "stream",
     "text": [
      "q0: ──X──\n",
      "\n",
      "q1: ──X──\n",
      "\n",
      "q2: ──X──\n",
      "\n",
      "q3: ──X──\n",
      "\n",
      "q4: ──X──\n",
      "\n",
      "q5: ──X──\n"
     ]
    }
   ],
   "source": [
    "hartreefock_wfn_circuit = Circuit([\n",
    "    X.on(i) for i in range(molecule_of.n_electrons)\n",
    "])\n",
    "print(hartreefock_wfn_circuit)"
   ]
  },
  {
   "cell_type": "code",
   "execution_count": 23,
   "metadata": {},
   "outputs": [
    {
     "name": "stdout",
     "output_type": "stream",
     "text": [
      "ccsd:-3.2333624471067126.\n",
      "fci:-3.234550105562172.\n",
      "=============================Circuit Summary=============================\n",
      "|Total number of gates  : 244266.                                       |\n",
      "|Parameter gates        : 7668.                                         |\n",
      "|with 405 parameters are: p0, p27, p1, p28, p2, p29, p3, p30, p4, p31...|\n",
      "|Number qubit of circuit: 24                                            |\n",
      "=========================================================================\n",
      "Number of parameters: 405\n"
     ]
    }
   ],
   "source": [
    "ansatz_circuit, \\\n",
    "init_amplitudes, \\\n",
    "ansatz_parameter_names, \\\n",
    "hamiltonian_QubitOp, \\\n",
    "n_qubits, \\\n",
    "n_electrons = generate_uccsd(molecule_file, th=-1)\n",
    "\n",
    "total_circuit = hartreefock_wfn_circuit + ansatz_circuit\n",
    "total_circuit.summary()\n",
    "print(\"Number of parameters: %d\" % (len(ansatz_parameter_names)))"
   ]
  },
  {
   "cell_type": "code",
   "execution_count": 17,
   "metadata": {},
   "outputs": [
    {
     "name": "stdout",
     "output_type": "stream",
     "text": [
      "Initial energy:  -2.0684099197387695\n"
     ]
    }
   ],
   "source": [
    "sim = Simulator(\"projectq\", total_circuit.n_qubits)\n",
    "ham = Hamiltonian(hamiltonian_QubitOp)\n",
    "ham.sparse(total_circuit.n_qubits)\n",
    "molecule_pqc = sim.get_expectation_with_grad(\n",
    "    ham,\n",
    "    total_circuit\n",
    ")\n",
    "\n",
    "from mindquantum.framework import MQAnsatzOnlyLayer\n",
    "\n",
    "molecule_pqcnet = MQAnsatzOnlyLayer(molecule_pqc, \"Zeros\")\n",
    "\n",
    "initial_energy = molecule_pqcnet()\n",
    "print(\"Initial energy: %20.16f\" % (initial_energy.asnumpy()))"
   ]
  },
  {
   "cell_type": "code",
   "execution_count": 18,
   "metadata": {},
   "outputs": [
    {
     "name": "stdout",
     "output_type": "stream",
     "text": [
      "Step   0 energy  -2.0684099197387695\n",
      "Step   5 energy  -2.1329057216644287\n",
      "Step  10 energy  -2.1524364948272705\n",
      "Step  15 energy  -2.1555552482604980\n",
      "Step  20 energy  -2.1558287143707275\n",
      "Step  25 energy  -2.1558537483215332\n",
      "Step  30 energy  -2.1558580398559570\n",
      "Optimization completed at step  34\n",
      "Optimized energy:  -2.1558587551116943\n",
      "Optimized amplitudes:  [-6.28285017e-03  3.89960036e-02  6.52762511e-09  1.19726472e-01\n",
      "  8.91919782e-09  3.83209549e-02 -1.48043660e-02  2.72279941e-02\n",
      "  1.63974036e-02  5.71735576e-03  8.02772160e-09  6.54668082e-03\n",
      "  7.83180525e-08  5.03344508e-03 -1.88782793e-02  8.68890062e-03\n",
      " -5.19739930e-03  6.99206255e-03  1.98641672e-08  5.45758614e-03\n",
      " -1.23232951e-07  7.32358871e-03 -1.76936276e-02  2.97281868e-03\n",
      "  3.63270170e-09  1.32459235e-08 -1.14323027e-01 -7.11524412e-02\n",
      " -2.97644013e-03  7.26065750e-08 -5.84977045e-08  6.72285907e-08\n",
      " -3.40864621e-02 -2.92904843e-02  2.39834320e-02 -8.61504219e-08\n",
      "  9.46972065e-08  1.07241448e-07  2.26549488e-02  1.34129655e-02\n",
      " -3.53626017e-09  2.59110946e-02 -2.30515909e-08  3.88356298e-02\n",
      " -1.13042461e-07 -5.17791499e-09 -4.29845670e-09  1.87036267e-03\n",
      " -1.90804189e-04  1.73100512e-02 -1.98554588e-07  2.68740251e-07\n",
      "  1.43055408e-08 -1.97498091e-02 -2.36449875e-02 -2.38273460e-02\n",
      " -1.65841616e-08 -2.48111061e-08 -4.13712353e-09  1.37519399e-02\n",
      "  4.03803968e-09 -8.06130841e-03  6.27813623e-09 -1.02331306e-07\n",
      " -1.00927074e-02 -8.63463990e-03 -5.14593301e-03  5.13630027e-08\n",
      " -3.89143011e-08  1.23431334e-07 -6.17011264e-03 -5.97292464e-03\n",
      "  8.21475723e-08  6.31422270e-03 -1.10060483e-07  3.11537995e-08\n",
      "  1.05645483e-07 -9.95662622e-03 -9.61917266e-03 -3.68120824e-03\n",
      "  6.54884707e-06 -6.76018863e-06 -8.26500397e-08 -2.48836121e-04\n",
      " -1.48896939e-09  9.35186080e-08  9.11774021e-03  7.66101526e-03\n",
      " -1.20051979e-07 -2.60547814e-08]\n"
     ]
    }
   ],
   "source": [
    "optimizer = ms.nn.Adagrad(\n",
    "    molecule_pqcnet.trainable_params(),\n",
    "    learning_rate=4e-2\n",
    ")\n",
    "train_pqcnet = ms.nn.TrainOneStepCell(molecule_pqcnet, optimizer)\n",
    "\n",
    "eps = 1.e-8\n",
    "energy_diff = eps * 1000\n",
    "energy_last = initial_energy.asnumpy() + energy_diff\n",
    "iter_idx = 0\n",
    "\n",
    "# time it\n",
    "# limit iteration\n",
    "while abs(energy_diff) > eps:\n",
    "    energy_i = train_pqcnet().asnumpy()\n",
    "    if iter_idx % 5 == 0:\n",
    "        print(\"Step %3d energy %20.16f\" % (iter_idx, float(energy_i)))\n",
    "    energy_diff = energy_last - energy_i\n",
    "    energy_last = energy_i\n",
    "    iter_idx += 1\n",
    "\n",
    "print(\"Optimization completed at step %3d\" % (iter_idx - 1))\n",
    "print(\"Optimized energy: %20.16f\" % energy_i)\n",
    "print(\"Optimized amplitudes: \", molecule_pqcnet.weight.asnumpy())"
   ]
  },
  {
   "cell_type": "code",
   "execution_count": 1,
   "metadata": {},
   "outputs": [],
   "source": [
    "from pyqpanda import *\n",
    "import numpy as np"
   ]
  },
  {
   "cell_type": "code",
   "execution_count": 1,
   "metadata": {},
   "outputs": [
    {
     "ename": "ModuleNotFoundError",
     "evalue": "No module named 'paddle'",
     "output_type": "error",
     "traceback": [
      "\u001b[0;31m---------------------------------------------------------------------------\u001b[0m",
      "\u001b[0;31mModuleNotFoundError\u001b[0m                       Traceback (most recent call last)",
      "\u001b[1;32m/home/zhuyk6/Codes/Projects/mq_benchmark/vqe/bench.ipynb Cell 10'\u001b[0m in \u001b[0;36m<cell line: 1>\u001b[0;34m()\u001b[0m\n\u001b[0;32m----> <a href='vscode-notebook-cell:/home/zhuyk6/Codes/Projects/mq_benchmark/vqe/bench.ipynb#ch0000009?line=0'>1</a>\u001b[0m \u001b[39mimport\u001b[39;00m \u001b[39mpaddle\u001b[39;00m\n\u001b[1;32m      <a href='vscode-notebook-cell:/home/zhuyk6/Codes/Projects/mq_benchmark/vqe/bench.ipynb#ch0000009?line=1'>2</a>\u001b[0m \u001b[39mimport\u001b[39;00m \u001b[39mpaddle_quantum\u001b[39;00m\u001b[39m.\u001b[39;00m\u001b[39mqchem\u001b[39;00m \u001b[39mas\u001b[39;00m \u001b[39mqchem\u001b[39;00m\n\u001b[1;32m      <a href='vscode-notebook-cell:/home/zhuyk6/Codes/Projects/mq_benchmark/vqe/bench.ipynb#ch0000009?line=2'>3</a>\u001b[0m \u001b[39mfrom\u001b[39;00m \u001b[39mpaddle_quantum\u001b[39;00m\u001b[39m.\u001b[39;00m\u001b[39mloss\u001b[39;00m \u001b[39mimport\u001b[39;00m ExpecVal\n",
      "\u001b[0;31mModuleNotFoundError\u001b[0m: No module named 'paddle'"
     ]
    }
   ],
   "source": []
  }
 ],
 "metadata": {
  "interpreter": {
   "hash": "befc08f6dc0989659ffcc6d4cb3e99a21471bccd67a7fcebfeea82477311f95e"
  },
  "kernelspec": {
   "display_name": "Python 3.10.4 64-bit ('3.10.4')",
   "language": "python",
   "name": "python3"
  },
  "language_info": {
   "codemirror_mode": {
    "name": "ipython",
    "version": 3
   },
   "file_extension": ".py",
   "mimetype": "text/x-python",
   "name": "python",
   "nbconvert_exporter": "python",
   "pygments_lexer": "ipython3",
   "version": "3.10.4"
  },
  "orig_nbformat": 4
 },
 "nbformat": 4,
 "nbformat_minor": 2
}
