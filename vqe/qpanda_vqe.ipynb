{
 "cells": [
  {
   "cell_type": "code",
   "execution_count": 20,
   "metadata": {},
   "outputs": [],
   "source": [
    "import pyqpanda as qp\n",
    "from pennylane import qchem\n",
    "import numpy as np"
   ]
  },
  {
   "cell_type": "code",
   "execution_count": 6,
   "metadata": {},
   "outputs": [
    {
     "name": "stdout",
     "output_type": "stream",
     "text": [
      "['H', 'H']\n",
      "[ 0.      0.     -0.6614  0.      0.      0.6614]\n"
     ]
    }
   ],
   "source": [
    "def info_from_data(data):\n",
    "    symbols = []\n",
    "    coordinates = []\n",
    "    for par in data:\n",
    "        atom, coordinate = par[0], par[1]\n",
    "        symbols.append(atom)\n",
    "        for x in coordinate:\n",
    "            coordinates.append(x)\n",
    "    return (symbols, np.array(coordinates))\n",
    "\n",
    "# symbols = [\"H\", \"H\"]\n",
    "# coordinates = np.array([0.0, 0.0, -0.6614, 0.0, 0.0, 0.6614])\n",
    "\n",
    "data = [[\"H\", [0.0, 0.0, -0.6614]], [\"H\", [0.0, 0.0, 0.6614]]]\n",
    "# data = [[\"Li\", [0, 0, 0]], [\"H\", [1, 0, 0]]]\n",
    "symbols, coordinates = info_from_data(data)\n",
    "print(symbols)\n",
    "print(coordinates)"
   ]
  },
  {
   "cell_type": "code",
   "execution_count": 8,
   "metadata": {},
   "outputs": [
    {
     "name": "stdout",
     "output_type": "stream",
     "text": [
      "Number of qubits =  4\n",
      "The Hamiltonian is   (-0.24274501250418562) [Z2]\n",
      "+ (-0.24274501250418556) [Z3]\n",
      "+ (-0.04207255204070015) [I0]\n",
      "+ (0.17771358235525922) [Z1]\n",
      "+ (0.1777135823552593) [Z0]\n",
      "+ (0.12293330446056158) [Z0 Z2]\n",
      "+ (0.12293330446056158) [Z1 Z3]\n",
      "+ (0.1676833885117756) [Z0 Z3]\n",
      "+ (0.1676833885117756) [Z1 Z2]\n",
      "+ (0.17059759275424013) [Z0 Z1]\n",
      "+ (0.17627661386340626) [Z2 Z3]\n",
      "+ (-0.044750084051214035) [Y0 Y1 X2 X3]\n",
      "+ (-0.044750084051214035) [X0 X1 Y2 Y3]\n",
      "+ (0.044750084051214035) [Y0 X1 X2 Y3]\n",
      "+ (0.044750084051214035) [X0 Y1 Y2 X3]\n"
     ]
    }
   ],
   "source": [
    "H, qubits = qchem.molecular_hamiltonian(symbols, coordinates)\n",
    "print(\"Number of qubits = \", qubits)\n",
    "print(f\"The Hamiltonian is {H}\")"
   ]
  },
  {
   "cell_type": "code",
   "execution_count": 15,
   "metadata": {},
   "outputs": [],
   "source": [
    "def parse_braces(w: str, lb: str, rb: str) -> str:\n",
    "    i = w.find(lb)\n",
    "    j = w.find(rb)\n",
    "    return w[i+1:j]"
   ]
  },
  {
   "cell_type": "code",
   "execution_count": 16,
   "metadata": {},
   "outputs": [
    {
     "name": "stdout",
     "output_type": "stream",
     "text": [
      "op=Z2, x=-0.24274501250418562\n",
      "op=Z3, x=-0.24274501250418556\n",
      "op=I0, x=-0.04207255204070015\n",
      "op=Z1, x=0.17771358235525922\n",
      "op=Z0, x=0.1777135823552593\n",
      "op=Z0 Z2, x=0.12293330446056158\n",
      "op=Z1 Z3, x=0.12293330446056158\n",
      "op=Z0 Z3, x=0.1676833885117756\n",
      "op=Z1 Z2, x=0.1676833885117756\n",
      "op=Z0 Z1, x=0.17059759275424013\n",
      "op=Z2 Z3, x=0.17627661386340626\n",
      "op=Y0 Y1 X2 X3, x=-0.044750084051214035\n",
      "op=X0 X1 Y2 Y3, x=-0.044750084051214035\n",
      "op=Y0 X1 X2 Y3, x=0.044750084051214035\n",
      "op=X0 Y1 Y2 X3, x=0.044750084051214035\n"
     ]
    }
   ],
   "source": [
    "# ls = str(H).splitlines()\n",
    "# for l in ls:\n",
    "#     op = parse_braces(l, \"[\", \"]\")\n",
    "#     x = parse_braces(l, \"(\", \")\")\n",
    "#     print(f\"op={op}, x={x}\")"
   ]
  },
  {
   "cell_type": "code",
   "execution_count": 26,
   "metadata": {},
   "outputs": [],
   "source": [
    "# def get_hamiltonian(symbols, coordinates):\n",
    "#     import pennylane.qchem\n",
    "#     H, qubits = qchem.molecular_hamiltonian(symbols, coordinates)\n",
    "#     ops = dict()\n",
    "#     for l in str(H).splitlines():\n",
    "#         op = parse_braces(l, \"[\", \"]\")\n",
    "#         # qpanda's PauliOperator can't contain 'I' \n",
    "#         if op.find(\"I\") != -1:\n",
    "#             continue\n",
    "#         x = parse_braces(l, \"(\", \")\")\n",
    "#         ops[op] = complex(x)\n",
    "#     return qp.PauliOperator(ops), qubits"
   ]
  },
  {
   "cell_type": "code",
   "execution_count": 27,
   "metadata": {},
   "outputs": [],
   "source": [
    "# H, qubits = get_hamiltonian(symbols, coordinates)"
   ]
  },
  {
   "cell_type": "code",
   "execution_count": 28,
   "metadata": {},
   "outputs": [],
   "source": [
    "data = [[\"H\", [0.0, 0.0, -0.6614]], [\"H\", [0.0, 0.0, 0.6614]]]"
   ]
  },
  {
   "cell_type": "code",
   "execution_count": 29,
   "metadata": {},
   "outputs": [],
   "source": [
    "from openfermion.chem import MolecularData\n",
    "from openfermionpyscf import run_pyscf\n",
    "import mindquantum as mq"
   ]
  },
  {
   "cell_type": "code",
   "execution_count": 32,
   "metadata": {},
   "outputs": [
    {
     "name": "stdout",
     "output_type": "stream",
     "text": [
      "q0: ──X──\n",
      "\n",
      "q1: ──X──\n",
      "ccsd:-1.0305030554109615.\n",
      "fci:-1.0305030553685255.\n",
      "==========Circuit Summary==========\n",
      "|Total number of gates  : 206.    |\n",
      "|Parameter gates        : 12.     |\n",
      "|with 2 parameters are  : p0, p1. |\n",
      "|Number qubit of circuit: 4       |\n",
      "===================================\n",
      "Number of parameters: 2\n"
     ]
    }
   ],
   "source": [
    "molecule_of = MolecularData(\n",
    "    geometry=data, \n",
    "    basis=\"sto3g\", \n",
    "    multiplicity=1\n",
    ")\n",
    "\n",
    "molecule_of = run_pyscf(\n",
    "    molecule_of, \n",
    "    run_scf=1, \n",
    "    run_ccsd=1, \n",
    "    run_fci=1\n",
    ")\n",
    "\n",
    "# print(\"Hartree-Fock energy: %20.16f Ha\" % (molecule_of.hf_energy))\n",
    "# print(\"CCSD energy: %20.16f Ha\" % (molecule_of.ccsd_energy))\n",
    "# print(\"FCI  energy: %20.16f Ha\" % (molecule_of.fci_energy))\n",
    "\n",
    "molecule_of.save()\n",
    "molecule_file = molecule_of.filename\n",
    "# print(molecule_file)\n",
    "\n",
    "hartreefock_wfn_circuit = mq.Circuit([\n",
    "    mq.X.on(i) for i in range(molecule_of.n_electrons)\n",
    "])\n",
    "print(hartreefock_wfn_circuit)\n",
    "\n",
    "ansatz_circuit, \\\n",
    "init_amplitudes, \\\n",
    "ansatz_parameter_names, \\\n",
    "hamiltonian_QubitOp, \\\n",
    "n_qubits, \\\n",
    "n_electrons = mq.algorithm.generate_uccsd(molecule_file, th=-1)\n",
    "\n",
    "total_circuit = hartreefock_wfn_circuit + ansatz_circuit\n",
    "total_circuit.summary()\n",
    "print(\"Number of parameters: %d\" % (len(ansatz_parameter_names)))"
   ]
  },
  {
   "cell_type": "code",
   "execution_count": 31,
   "metadata": {},
   "outputs": [
    {
     "name": "stdout",
     "output_type": "stream",
     "text": [
      "-0.4562 [] +\n",
      "-0.0545 [X0 X1 Y2 Y3] +\n",
      "0.0545 [X0 Y1 Y2 X3] +\n",
      "0.0545 [Y0 X1 X2 Y3] +\n",
      "-0.0545 [Y0 Y1 X2 X3] +\n",
      "0.1065 [Z0] +\n",
      "0.1438 [Z0 Z1] +\n",
      "0.0902 [Z0 Z2] +\n",
      "0.1447 [Z0 Z3] +\n",
      "0.1065 [Z1] +\n",
      "0.1447 [Z1 Z2] +\n",
      "0.0902 [Z1 Z3] +\n",
      "-0.0609 [Z2] +\n",
      "0.1514 [Z2 Z3] +\n",
      "-0.0609 [Z3] \n"
     ]
    }
   ],
   "source": [
    "print(str(hamiltonian_QubitOp))"
   ]
  },
  {
   "cell_type": "code",
   "execution_count": 41,
   "metadata": {},
   "outputs": [],
   "source": [
    "f = open(\"circuit.txt\", \"w\")\n",
    "\n",
    "f.write(str(total_circuit))\n",
    "\n",
    "f.close()\n",
    "\n",
    "f = open(\"circuit_without_barrier.txt\", \"w\")\n",
    "f.write(str(total_circuit.remove_barrier()))\n",
    "f.close()"
   ]
  },
  {
   "cell_type": "code",
   "execution_count": 36,
   "metadata": {},
   "outputs": [
    {
     "name": "stdout",
     "output_type": "stream",
     "text": [
      "{\n",
      " : -0.456200\n",
      "X0 X1 Y2 Y3 : -0.054500\n",
      "X0 Y1 Y2 X3 : 0.054500\n",
      "Y0 X1 X2 Y3 : 0.054500\n",
      "Y0 Y1 X2 X3 : -0.054500\n",
      "Z0 : 0.106500\n",
      "Z0 Z1 : 0.143800\n",
      "Z0 Z2 : 0.090200\n",
      "Z0 Z3 : 0.144700\n",
      "Z1 : 0.106500\n",
      "Z1 Z2 : 0.144700\n",
      "Z1 Z3 : 0.090200\n",
      "Z2 : -0.060900\n",
      "Z2 Z3 : 0.151400\n",
      "Z3 : -0.060900\n",
      "}\n"
     ]
    }
   ],
   "source": [
    "def trans_hamiltonian(mq_ham):\n",
    "    ops = dict()\n",
    "    for l in str(mq_ham).splitlines():\n",
    "        op = parse_braces(l, \"[\", \"]\")\n",
    "        idx = l.find(\"[\")\n",
    "        x = float(l[:idx])\n",
    "        ops[op] = x\n",
    "    return qp.PauliOperator(ops)\n",
    "\n",
    "ham = trans_hamiltonian(hamiltonian_QubitOp)\n",
    "print(ham)"
   ]
  },
  {
   "cell_type": "code",
   "execution_count": 51,
   "metadata": {},
   "outputs": [],
   "source": [
    "from mindquantum.core import gates as mgates\n",
    "from mindquantum.core import Circuit as mcircuit\n",
    "\n",
    "def trans_circuit_mindquantum_qpanda(circuit: mcircuit, n_qubits: int, machine, q):\n",
    "    import pyqpanda as pq\n",
    "\n",
    "    vqc = pq.VariationalQuantumCircuit()\n",
    "\n",
    "    def self_herm_non_params(gate):\n",
    "        ctrls = gate.ctrl_qubits\n",
    "        objs = gate.obj_qubits\n",
    "        if ctrls:\n",
    "            # must be CNOT\n",
    "            g = pq.VariationalQuantumGate_CNOT\n",
    "            g = g(q[ctrls[0]], q[objs[0]])\n",
    "            vqc.insert(g)\n",
    "        else:\n",
    "            # must be H\n",
    "            gate_map = {\n",
    "                \"X\": pq.VariationalQuantumGate_X,\n",
    "                \"Y\": pq.VariationalQuantumGate_Y,\n",
    "                \"Z\": pq.VariationalQuantumGate_Z,\n",
    "                \"H\": pq.VariationalQuantumGate_H,\n",
    "            }\n",
    "            g = gate_map[gate.name.upper()]\n",
    "            g = g(q[objs[0]])\n",
    "            vqc.insert(g)\n",
    "    \n",
    "    def params_gate_trans(gate, pr_table):\n",
    "        gate_map = {\n",
    "            \"RX\": pq.VariationalQuantumGate_RX,\n",
    "            \"RY\": pq.VariationalQuantumGate_RY,\n",
    "            \"RZ\": pq.VariationalQuantumGate_RZ,\n",
    "        }\n",
    "        objs = gate.obj_qubits\n",
    "        if gate.ctrl_qubits:\n",
    "            raise ValueError(f\"Can't convert {gate} with params.\")\n",
    "        g = gate_map[gate.name.upper()]\n",
    "        if gate.parameterized:\n",
    "            # parameter\n",
    "            for k,v in gate.coeff.items():\n",
    "                if k not in pr_table:\n",
    "                    pr_table[k] = pq.var(1, True)\n",
    "                g = g(q[objs[0]], v * pr_table[k])\n",
    "        else:\n",
    "            # no parameter\n",
    "            g = g(q[objs[0]], gate.coeff.const)\n",
    "        vqc.insert(g)\n",
    "\n",
    "    cnt1, cnt2 = 0, 0\n",
    "    circuit = circuit.remove_barrier()\n",
    "    pr_table = dict()\n",
    "    for g in circuit:\n",
    "        if isinstance(g, (\n",
    "            mgates.XGate, mgates.HGate\n",
    "        )):\n",
    "            cnt1 += 1\n",
    "            self_herm_non_params(g)\n",
    "        elif isinstance(g, (\n",
    "            mgates.RX, mgates.RY, mgates.RZ\n",
    "        )):\n",
    "            cnt2 += 1\n",
    "            params_gate_trans(g, pr_table)\n",
    "        else:\n",
    "            raise ValueError(f\"Haven't implemented convertion for gate {g}\")\n",
    "    print(f\"cnt1={cnt1}, cnt2={cnt2}\")\n",
    "    return vqc\n"
   ]
  },
  {
   "cell_type": "code",
   "execution_count": 44,
   "metadata": {},
   "outputs": [
    {
     "name": "stdout",
     "output_type": "stream",
     "text": [
      "{'a': 1}, const: 0\n",
      "0.0\n",
      "True\n",
      "{}, const: 1.2\n",
      "1.2\n",
      "False\n"
     ]
    }
   ],
   "source": [
    "from mindquantum.core import gates as mgates\n",
    "\n",
    "g = mgates.RX('a').on(0)\n",
    "print(g.coeff)\n",
    "print(g.coeff.const)\n",
    "print(g.parameterized)\n",
    "\n",
    "g = mgates.RX(1.2).on(0)\n",
    "print(g.coeff)\n",
    "print(g.coeff.const)\n",
    "print(g.parameterized)"
   ]
  },
  {
   "cell_type": "code",
   "execution_count": 52,
   "metadata": {},
   "outputs": [
    {
     "name": "stdout",
     "output_type": "stream",
     "text": [
      "cnt1=106, cnt2=52\n",
      "step 0: loss = -0.7025774026621592\n",
      "step 5: loss = -0.8995773716208046\n",
      "step 10: loss = -0.9525883706354865\n",
      "step 15: loss = -1.0154420385978409\n",
      "step 20: loss = -1.0022402431183746\n",
      "step 25: loss = -1.0090629990132356\n",
      "step 30: loss = -1.0240768621847345\n",
      "step 35: loss = -1.0302869635105425\n",
      "step 40: loss = -1.028590188704754\n",
      "step 45: loss = -1.027936674128035\n"
     ]
    }
   ],
   "source": [
    "import pyqpanda as pq\n",
    "\n",
    "machine = pq.init_quantum_machine(pq.QMachineType.CPU)\n",
    "qubit_list = machine.qAlloc_many(n_qubits)\n",
    "\n",
    "vqc = trans_circuit_mindquantum_qpanda(\n",
    "    total_circuit, n_qubits, machine, qubit_list)\n",
    "\n",
    "ham = trans_hamiltonian(hamiltonian_QubitOp)\n",
    "\n",
    "loss = pq.qop(vqc, ham, machine, qubit_list)\n",
    "\n",
    "optimizer = pq.MomentumOptimizer.minimize(loss, 0.05, 0.9)\n",
    "\n",
    "leaves = optimizer.get_variables()\n",
    "\n",
    "iter_num = 50\n",
    "for i in range(iter_num):\n",
    "    optimizer.run(leaves, 0)\n",
    "    loss_value = optimizer.get_loss()\n",
    "    if i % 5 == 0:\n",
    "        print(f\"step {i}: loss = {loss_value}\")\n"
   ]
  }
 ],
 "metadata": {
  "interpreter": {
   "hash": "fe23db6dbd04142dcf620a84033ad5fbdd1968100e6cb68cefa531a9613914d5"
  },
  "kernelspec": {
   "display_name": "Python 3.7.5 64-bit ('3.7.5')",
   "language": "python",
   "name": "python3"
  },
  "language_info": {
   "codemirror_mode": {
    "name": "ipython",
    "version": 3
   },
   "file_extension": ".py",
   "mimetype": "text/x-python",
   "name": "python",
   "nbconvert_exporter": "python",
   "pygments_lexer": "ipython3",
   "version": "3.7.5"
  },
  "orig_nbformat": 4
 },
 "nbformat": 4,
 "nbformat_minor": 2
}
