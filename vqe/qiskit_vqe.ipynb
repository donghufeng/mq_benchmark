{
 "cells": [
  {
   "cell_type": "code",
   "execution_count": 16,
   "metadata": {},
   "outputs": [],
   "source": [
    "from qiskit import Aer\n",
    "from qiskit_nature.drivers import UnitsType, Molecule\n",
    "from qiskit_nature.drivers.second_quantization import (\n",
    "    ElectronicStructureDriverType,\n",
    "    ElectronicStructureMoleculeDriver,\n",
    ")\n",
    "from qiskit_nature.problems.second_quantization import ElectronicStructureProblem\n",
    "from qiskit_nature.converters.second_quantization import QubitConverter\n",
    "from qiskit_nature.mappers.second_quantization import JordanWignerMapper\n",
    "\n",
    "data = [[\"H\", [0.0, 0.0, 0.0]], [\"H\", [0.0, 0.0, 0.735]]]\n",
    "# data = [[\"Li\", [0, 0, 0]], [\"H\", [1, 0, 0]]]\n",
    "# data = [[\"Be\", [0, 0, 0]], [\"H\", [0.2, 0, 0]], [\"H\", [-0.2, 0, 0]]]\n",
    "\n",
    "molecule = Molecule(\n",
    "    geometry=data, \n",
    "    charge=0, \n",
    "    multiplicity=1\n",
    ")\n",
    "driver = ElectronicStructureMoleculeDriver(\n",
    "    molecule, basis=\"sto3g\", driver_type=ElectronicStructureDriverType.PYSCF\n",
    ")\n",
    "\n",
    "es_problem = ElectronicStructureProblem(driver)\n",
    "qubit_converter = QubitConverter(JordanWignerMapper())"
   ]
  },
  {
   "cell_type": "code",
   "execution_count": 17,
   "metadata": {},
   "outputs": [],
   "source": [
    "from qiskit.algorithms import NumPyMinimumEigensolver\n",
    "\n",
    "numpy_solver = NumPyMinimumEigensolver()"
   ]
  },
  {
   "cell_type": "code",
   "execution_count": 18,
   "metadata": {},
   "outputs": [],
   "source": [
    "from qiskit.providers.aer import StatevectorSimulator\n",
    "from qiskit import Aer\n",
    "from qiskit.utils import QuantumInstance\n",
    "from qiskit_nature.algorithms import VQEUCCFactory\n",
    "\n",
    "quantum_instance = QuantumInstance(backend=Aer.get_backend(\"aer_simulator_statevector\"))\n",
    "vqe_solver = VQEUCCFactory(quantum_instance)"
   ]
  },
  {
   "cell_type": "code",
   "execution_count": 19,
   "metadata": {},
   "outputs": [],
   "source": [
    "from qiskit.algorithms import VQE\n",
    "from qiskit.circuit.library import TwoLocal\n",
    "\n",
    "tl_circuit = TwoLocal(\n",
    "    rotation_blocks=[\"h\", \"rx\"],\n",
    "    entanglement_blocks=\"cz\",\n",
    "    entanglement=\"full\",\n",
    "    reps=2,\n",
    "    parameter_prefix=\"y\",\n",
    ")\n",
    "\n",
    "another_solver = VQE(\n",
    "    ansatz=tl_circuit,\n",
    "    quantum_instance=QuantumInstance(Aer.get_backend(\"aer_simulator_statevector\")),\n",
    ")"
   ]
  },
  {
   "cell_type": "code",
   "execution_count": 20,
   "metadata": {},
   "outputs": [
    {
     "name": "stdout",
     "output_type": "stream",
     "text": [
      "=== GROUND STATE ENERGY ===\n",
      " \n",
      "* Electronic ground state energy (Hartree): -1.857275030145\n",
      "  - computed part:      -1.857275030145\n",
      "~ Nuclear repulsion energy (Hartree): 0.719968994449\n",
      "> Total ground state energy (Hartree): -1.137306035696\n",
      " \n",
      "=== MEASURED OBSERVABLES ===\n",
      " \n",
      "  0:  # Particles: 2.000 S: 0.000 S^2: 0.000 M: 0.000\n",
      " \n",
      "=== DIPOLE MOMENTS ===\n",
      " \n",
      "~ Nuclear dipole moment (a.u.): [0.0  0.0  1.3889487]\n",
      " \n",
      "  0: \n",
      "  * Electronic dipole moment (a.u.): [0.0  0.0  1.38894869]\n",
      "    - computed part:      [0.0  0.0  1.38894869]\n",
      "  > Dipole moment (a.u.): [0.0  0.0  0.00000001]  Total: 0.00000001\n",
      "                 (debye): [0.0  0.0  0.00000002]  Total: 0.00000002\n",
      " \n"
     ]
    }
   ],
   "source": [
    "\n",
    "\n",
    "from qiskit_nature.algorithms import GroundStateEigensolver\n",
    "\n",
    "calc = GroundStateEigensolver(qubit_converter, vqe_solver)\n",
    "\n",
    "# calc = GroundStateEigensolver(qubit_converter, numpy_solver)\n",
    "\n",
    "# calc = GroundStateEigensolver(qubit_converter, another_solver)\n",
    "\n",
    "res = calc.solve(es_problem)\n",
    "\n",
    "print(res)\n",
    "\n"
   ]
  },
  {
   "cell_type": "code",
   "execution_count": null,
   "metadata": {},
   "outputs": [],
   "source": []
  }
 ],
 "metadata": {
  "interpreter": {
   "hash": "fe23db6dbd04142dcf620a84033ad5fbdd1968100e6cb68cefa531a9613914d5"
  },
  "kernelspec": {
   "display_name": "Python 3.7.5 64-bit ('3.7.5')",
   "language": "python",
   "name": "python3"
  },
  "language_info": {
   "codemirror_mode": {
    "name": "ipython",
    "version": 3
   },
   "file_extension": ".py",
   "mimetype": "text/x-python",
   "name": "python",
   "nbconvert_exporter": "python",
   "pygments_lexer": "ipython3",
   "version": "3.7.5"
  },
  "orig_nbformat": 4
 },
 "nbformat": 4,
 "nbformat_minor": 2
}
