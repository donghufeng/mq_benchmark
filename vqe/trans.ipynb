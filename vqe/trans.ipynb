{
 "cells": [
  {
   "cell_type": "code",
   "execution_count": 1,
   "metadata": {},
   "outputs": [],
   "source": [
    "from mindquantum.core import gates as mgates\n",
    "from mindquantum.core import Circuit as mcircuit"
   ]
  },
  {
   "cell_type": "code",
   "execution_count": 2,
   "metadata": {},
   "outputs": [],
   "source": [
    "def params_trans(pr, pr_table, to_qiskit=True):\n",
    "    from qiskit.circuit import Parameter\n",
    "    if to_qiskit:\n",
    "        out = None\n",
    "        for k, v in pr.items():\n",
    "            if k not in pr_table:\n",
    "                pr_table[k] = Parameter(k)\n",
    "            if out is None:\n",
    "                out = pr_table[k] * v\n",
    "            else:\n",
    "                out += pr_table[k] * v\n",
    "        out += pr.const\n",
    "        return out\n"
   ]
  },
  {
   "cell_type": "code",
   "execution_count": 3,
   "metadata": {},
   "outputs": [],
   "source": [
    "def self_herm_non_params(gate, circ, to_qiskit=True):\n",
    "    from qiskit.circuit import library as qlib\n",
    "    qgate_map = {\n",
    "        'X': qlib.XGate,\n",
    "        'Y': qlib.YGate,\n",
    "        'Z': qlib.ZGate,\n",
    "        'H': qlib.HGate,\n",
    "        'SWAP': qlib.SwapGate,\n",
    "        'ISWAP': qlib.iSwapGate,\n",
    "    }\n",
    "    if to_qiskit:\n",
    "        ctrls = gate.ctrl_qubits\n",
    "        objs = gate.obj_qubits\n",
    "        g = qgate_map[gate.name.upper()]()\n",
    "        if ctrls:\n",
    "            g = g.control(len(ctrls))\n",
    "        circ.append(g, ctrls + objs, [])\n"
   ]
  },
  {
   "cell_type": "code",
   "execution_count": 4,
   "metadata": {},
   "outputs": [],
   "source": [
    "def t_gate_trans(gate, circ, to_qiskit=True):\n",
    "    from qiskit.circuit import library as qlib\n",
    "    if to_qiskit:\n",
    "        ctrls = gate.ctrl_qubits\n",
    "        objs = gate.obj_qubits\n",
    "        if gate.hermitianed:\n",
    "            g = qlib.TdgGate()\n",
    "        else:\n",
    "            g = qlib.TGate()\n",
    "        if ctrls:\n",
    "            g = g.control(len(ctrls))\n",
    "        circ.append(g, ctrls + objs, [])\n"
   ]
  },
  {
   "cell_type": "code",
   "execution_count": 5,
   "metadata": {},
   "outputs": [],
   "source": [
    "def s_gate_trans(gate, circ, to_qiskit=True):\n",
    "    from qiskit.circuit import library as qlib\n",
    "    if to_qiskit:\n",
    "        ctrls = gate.ctrl_qubits\n",
    "        objs = gate.obj_qubits\n",
    "        if gate.hermitianed:\n",
    "            g = qlib.SdgGate()\n",
    "        else:\n",
    "            g = qlib.SGate()\n",
    "        if ctrls:\n",
    "            g = g.control(len(ctrls))\n",
    "        circ.append(g, ctrls + objs, [])"
   ]
  },
  {
   "cell_type": "code",
   "execution_count": 2,
   "metadata": {},
   "outputs": [],
   "source": [
    "def oppo_params_gate_trans(gate, circ, pr_table, to_qiskit=True):\n",
    "    from qiskit.circuit import library as qlib\n",
    "    qgate_map = {\n",
    "        'RX': qlib.RXGate,\n",
    "        'RY': qlib.RYGate,\n",
    "        'RZ': qlib.RZGate,\n",
    "        'ZZ': qlib.RZZGate,\n",
    "        'YY': qlib.RYYGate,\n",
    "        'XX': qlib.RXXGate,\n",
    "        'PS': qlib.PhaseGate,\n",
    "    }\n",
    "    if to_qiskit:\n",
    "        ctrls = gate.ctrl_qubits\n",
    "        objs = gate.obj_qubits\n",
    "        if gate.parameterized:\n",
    "            g = qgate_map[gate.name.upper()](params_trans(\n",
    "                gate.coeff, pr_table))\n",
    "        else:\n",
    "            g = qgate_map[gate.name.upper()](gate.coeff.const)\n",
    "        if ctrls:\n",
    "            g = g.control(len(ctrls))\n",
    "        circ.append(g, ctrls + objs, [])"
   ]
  },
  {
   "cell_type": "code",
   "execution_count": 7,
   "metadata": {},
   "outputs": [],
   "source": [
    "def to_qiskit(circuit: mcircuit):\n",
    "    from qiskit import QuantumCircuit\n",
    "    qcircuit = QuantumCircuit(circuit.n_qubits)\n",
    "    pr_table = {}\n",
    "    for g in circuit:\n",
    "        if isinstance(g, (mgates.XGate, mgates.YGate, mgates.ZGate,\n",
    "                          mgates.HGate, mgates.SWAPGate)):\n",
    "            self_herm_non_params(g, qcircuit)\n",
    "        elif isinstance(g, mgates.TGate):\n",
    "            t_gate_trans(g, qcircuit)\n",
    "        elif isinstance(g, mgates.SGate):\n",
    "            t_gate_trans(g, qcircuit)\n",
    "        elif isinstance(g, (mgates.RX, mgates.RY, mgates.RZ, mgates.ZZ,\n",
    "                            mgates.YY, mgates.XX, mgates.PhaseShift)):\n",
    "            oppo_params_gate_trans(g, qcircuit, pr_table)\n",
    "        else:\n",
    "            raise ValueError(f\"Do not know how to convert {g} to qiskit.\")\n",
    "    return qcircuit\n",
    "\n"
   ]
  },
  {
   "cell_type": "code",
   "execution_count": 8,
   "metadata": {},
   "outputs": [
    {
     "name": "stdout",
     "output_type": "stream",
     "text": [
      "q0: ──X────X──────────────────────────────────@────@────T────T────T†────T†────RX(a)────RX(π)────RX(a)────RX(6/5)────XX(a)──\n",
      "           │                                  │    │         │          │       │        │                            │\n",
      "q1: ───────●──────────────────────────────────┼────●─────────●──────────●───────●────────●────────────────────────────●────\n",
      "           │                                  │    │         │          │       │        │                            │\n",
      "q2: ───────●────Y────Y────Z────Z────H────H────@────@─────────●──────────●───────●────────●──────────────────────────XX(a)──\n",
      "                     │         │         │         │                                                                  │\n",
      "q3: ─────────────────●─────────●─────────●─────────●──────────────────────────────────────────────────────────────────●────\n",
      "                     │         │         │\n",
      "q4: ─────────────────●─────────●─────────●─────────────────────────────────────────────────────────────────────────────────\n",
      "                     │         │         │\n",
      "q5: ─────────────────●─────────●─────────●─────────────────────────────────────────────────────────────────────────────────\n",
      "                     │         │         │\n",
      "q6: ─────────────────●─────────●─────────●─────────────────────────────────────────────────────────────────────────────────\n",
      "     ┌───┐┌───┐                                  ┌───┐┌───┐┌─────┐┌─────┐»\n",
      "q_0: ┤ X ├┤ X ├─────────────────────────────X──X─┤ T ├┤ T ├┤ Tdg ├┤ Tdg ├»\n",
      "     └───┘└─┬─┘                             │  │ └───┘└─┬─┘└─────┘└──┬──┘»\n",
      "q_1: ───────■───────────────────────────────┼──■────────■────────────■───»\n",
      "            │  ┌───┐┌───┐┌───┐   ┌───┐┌───┐ │  │        │            │   »\n",
      "q_2: ───────■──┤ Y ├┤ Y ├┤ Z ├─■─┤ H ├┤ H ├─X──X────────■────────────■───»\n",
      "               └───┘└─┬─┘└───┘ │ └───┘└─┬─┘    │                         »\n",
      "q_3: ─────────────────■────────■────────■──────■─────────────────────────»\n",
      "                      │        │        │                                »\n",
      "q_4: ─────────────────■────────■────────■────────────────────────────────»\n",
      "                      │        │        │                                »\n",
      "q_5: ─────────────────■────────■────────■────────────────────────────────»\n",
      "                      │        │        │                                »\n",
      "q_6: ─────────────────■────────■────────■────────────────────────────────»\n",
      "                                                                         »\n",
      "«     ┌───────────┐┌───────┐┌───────────┐┌─────────┐┌─────────────┐\n",
      "«q_0: ┤ Rx(1.0*a) ├┤ Rx(π) ├┤ Rx(1.0*a) ├┤ Rx(1.2) ├┤0            ├\n",
      "«     └─────┬─────┘└───┬───┘└───────────┘└─────────┘│             │\n",
      "«q_1: ──────■──────────■────────────────────────────■  Rxx(1.0*a) ├\n",
      "«           │          │                            │             │\n",
      "«q_2: ──────■──────────■────────────────────────────┤1            ├\n",
      "«                                                   └──────┬──────┘\n",
      "«q_3: ─────────────────────────────────────────────────────■───────\n",
      "«                                                                  \n",
      "«q_4: ─────────────────────────────────────────────────────────────\n",
      "«                                                                  \n",
      "«q_5: ─────────────────────────────────────────────────────────────\n",
      "«                                                                  \n",
      "«q_6: ─────────────────────────────────────────────────────────────\n",
      "«                                                                  \n"
     ]
    }
   ],
   "source": [
    "import numpy as np\n",
    "\n",
    "circ = mcircuit() + mgates.X.on(0) + mgates.X.on(0, [1, 2])\n",
    "circ.y(2)\n",
    "circ.y(2, [3, 4, 5, 6])\n",
    "circ.z(2)\n",
    "circ.z(2, [3, 4, 5, 6])\n",
    "circ.h(2)\n",
    "circ.h(2, [3, 4, 5, 6])\n",
    "circ.swap([0, 2])\n",
    "circ.swap([0, 2], [1, 3])\n",
    "circ += mgates.T(0)\n",
    "circ += mgates.T(0, [1, 2])\n",
    "circ += mgates.T(0).hermitian()\n",
    "circ += mgates.T(0, [1, 2]).hermitian()\n",
    "circ += mgates.RX('a').on(0, [1, 2])\n",
    "circ += mgates.RX(np.pi).on(0, [1, 2])\n",
    "circ += mgates.RX('a').on(0)\n",
    "circ += mgates.RX(1.2).on(0)\n",
    "circ += mgates.XX('a').on([0, 2], [1, 3])\n",
    "\n",
    "q_circ = to_qiskit(circ)\n",
    "print(circ)\n",
    "print(q_circ)"
   ]
  },
  {
   "cell_type": "code",
   "execution_count": 17,
   "metadata": {},
   "outputs": [
    {
     "ename": "NameError",
     "evalue": "name 'a' is not defined",
     "output_type": "error",
     "traceback": [
      "\u001b[0;31m---------------------------------------------------------------------------\u001b[0m",
      "\u001b[0;31mNameError\u001b[0m                                 Traceback (most recent call last)",
      "\u001b[0;32m/tmp/ipykernel_280174/3728513504.py\u001b[0m in \u001b[0;36m<module>\u001b[0;34m\u001b[0m\n\u001b[1;32m     12\u001b[0m \u001b[0;34m\u001b[0m\u001b[0m\n\u001b[1;32m     13\u001b[0m \u001b[0mq_circ\u001b[0m \u001b[0;34m=\u001b[0m \u001b[0mto_qiskit\u001b[0m\u001b[0;34m(\u001b[0m\u001b[0mcirc\u001b[0m\u001b[0;34m)\u001b[0m\u001b[0;34m\u001b[0m\u001b[0;34m\u001b[0m\u001b[0m\n\u001b[0;32m---> 14\u001b[0;31m \u001b[0mcirq_circ\u001b[0m \u001b[0;34m=\u001b[0m \u001b[0mQiskit\u001b[0m\u001b[0;34m.\u001b[0m\u001b[0mfrom_qiskit\u001b[0m\u001b[0;34m(\u001b[0m\u001b[0mq_circ\u001b[0m\u001b[0;34m)\u001b[0m\u001b[0;34m\u001b[0m\u001b[0;34m\u001b[0m\u001b[0m\n\u001b[0m\u001b[1;32m     15\u001b[0m \u001b[0;34m\u001b[0m\u001b[0m\n\u001b[1;32m     16\u001b[0m \u001b[0mprint\u001b[0m\u001b[0;34m(\u001b[0m\u001b[0mcirc\u001b[0m\u001b[0;34m)\u001b[0m\u001b[0;34m\u001b[0m\u001b[0;34m\u001b[0m\u001b[0m\n",
      "\u001b[0;32m~/.pyenv/versions/3.7.5/lib/python3.7/site-packages/qusetta/_conversions.py\u001b[0m in \u001b[0;36mfrom_qiskit\u001b[0;34m(cls, circuit)\u001b[0m\n\u001b[1;32m     77\u001b[0m \u001b[0;34m\u001b[0m\u001b[0m\n\u001b[1;32m     78\u001b[0m         \"\"\"\n\u001b[0;32m---> 79\u001b[0;31m         \u001b[0;32mreturn\u001b[0m \u001b[0mcls\u001b[0m\u001b[0;34m.\u001b[0m\u001b[0mfrom_qusetta\u001b[0m\u001b[0;34m(\u001b[0m\u001b[0mqs\u001b[0m\u001b[0;34m.\u001b[0m\u001b[0mQiskit\u001b[0m\u001b[0;34m.\u001b[0m\u001b[0mto_qusetta\u001b[0m\u001b[0;34m(\u001b[0m\u001b[0mcircuit\u001b[0m\u001b[0;34m)\u001b[0m\u001b[0;34m)\u001b[0m\u001b[0;34m\u001b[0m\u001b[0;34m\u001b[0m\u001b[0m\n\u001b[0m\u001b[1;32m     80\u001b[0m \u001b[0;34m\u001b[0m\u001b[0m\n\u001b[1;32m     81\u001b[0m     \u001b[0;34m@\u001b[0m\u001b[0mclassmethod\u001b[0m\u001b[0;34m\u001b[0m\u001b[0;34m\u001b[0m\u001b[0m\n",
      "\u001b[0;32m~/.pyenv/versions/3.7.5/lib/python3.7/site-packages/qusetta/_qiskit.py\u001b[0m in \u001b[0;36mfrom_qusetta\u001b[0;34m(circuit)\u001b[0m\n\u001b[1;32m     65\u001b[0m         \u001b[0mn\u001b[0m\u001b[0;34m,\u001b[0m \u001b[0mnew_circuit\u001b[0m \u001b[0;34m=\u001b[0m \u001b[0;34m-\u001b[0m\u001b[0;36m1\u001b[0m\u001b[0;34m,\u001b[0m \u001b[0;34m[\u001b[0m\u001b[0;34m]\u001b[0m\u001b[0;34m\u001b[0m\u001b[0;34m\u001b[0m\u001b[0m\n\u001b[1;32m     66\u001b[0m         \u001b[0;32mfor\u001b[0m \u001b[0mgate\u001b[0m \u001b[0;32min\u001b[0m \u001b[0mcircuit\u001b[0m\u001b[0;34m:\u001b[0m\u001b[0;34m\u001b[0m\u001b[0;34m\u001b[0m\u001b[0m\n\u001b[0;32m---> 67\u001b[0;31m             \u001b[0mg\u001b[0m\u001b[0;34m,\u001b[0m \u001b[0mparams\u001b[0m\u001b[0;34m,\u001b[0m \u001b[0mqubits\u001b[0m \u001b[0;34m=\u001b[0m \u001b[0mqs\u001b[0m\u001b[0;34m.\u001b[0m\u001b[0mgate_info\u001b[0m\u001b[0;34m(\u001b[0m\u001b[0mgate\u001b[0m\u001b[0;34m)\u001b[0m\u001b[0;34m\u001b[0m\u001b[0;34m\u001b[0m\u001b[0m\n\u001b[0m\u001b[1;32m     68\u001b[0m             \u001b[0mn\u001b[0m \u001b[0;34m=\u001b[0m \u001b[0mmax\u001b[0m\u001b[0;34m(\u001b[0m\u001b[0mmax\u001b[0m\u001b[0;34m(\u001b[0m\u001b[0mqubits\u001b[0m\u001b[0;34m)\u001b[0m\u001b[0;34m,\u001b[0m \u001b[0mn\u001b[0m\u001b[0;34m)\u001b[0m\u001b[0;34m\u001b[0m\u001b[0;34m\u001b[0m\u001b[0m\n\u001b[1;32m     69\u001b[0m             \u001b[0mnew_circuit\u001b[0m\u001b[0;34m.\u001b[0m\u001b[0mappend\u001b[0m\u001b[0;34m(\u001b[0m\u001b[0;34m(\u001b[0m\u001b[0mg\u001b[0m\u001b[0;34m.\u001b[0m\u001b[0mlower\u001b[0m\u001b[0;34m(\u001b[0m\u001b[0;34m)\u001b[0m\u001b[0;34m,\u001b[0m \u001b[0mparams\u001b[0m\u001b[0;34m,\u001b[0m \u001b[0mqubits\u001b[0m\u001b[0;34m)\u001b[0m\u001b[0;34m)\u001b[0m\u001b[0;34m\u001b[0m\u001b[0;34m\u001b[0m\u001b[0m\n",
      "\u001b[0;32m~/.pyenv/versions/3.7.5/lib/python3.7/site-packages/qusetta/_gates.py\u001b[0m in \u001b[0;36mgate_info\u001b[0;34m(gate)\u001b[0m\n\u001b[1;32m     44\u001b[0m     \u001b[0;32mif\u001b[0m \u001b[0mg\u001b[0m \u001b[0;32min\u001b[0m \u001b[0mPARAMETER_GATES\u001b[0m\u001b[0;34m:\u001b[0m\u001b[0;34m\u001b[0m\u001b[0;34m\u001b[0m\u001b[0m\n\u001b[1;32m     45\u001b[0m         \u001b[0mj\u001b[0m \u001b[0;34m=\u001b[0m \u001b[0mgate\u001b[0m\u001b[0;34m.\u001b[0m\u001b[0mindex\u001b[0m\u001b[0;34m(\u001b[0m\u001b[0;34m\")\"\u001b[0m\u001b[0;34m)\u001b[0m\u001b[0;34m\u001b[0m\u001b[0;34m\u001b[0m\u001b[0m\n\u001b[0;32m---> 46\u001b[0;31m         \u001b[0mparams\u001b[0m \u001b[0;34m=\u001b[0m \u001b[0mtuple\u001b[0m\u001b[0;34m(\u001b[0m\u001b[0mfloat\u001b[0m\u001b[0;34m(\u001b[0m\u001b[0meval\u001b[0m\u001b[0;34m(\u001b[0m\u001b[0mx\u001b[0m\u001b[0;34m)\u001b[0m\u001b[0;34m)\u001b[0m \u001b[0;32mfor\u001b[0m \u001b[0mx\u001b[0m \u001b[0;32min\u001b[0m \u001b[0mgate\u001b[0m\u001b[0;34m[\u001b[0m\u001b[0;34m:\u001b[0m\u001b[0mj\u001b[0m\u001b[0;34m]\u001b[0m\u001b[0;34m.\u001b[0m\u001b[0msplit\u001b[0m\u001b[0;34m(\u001b[0m\u001b[0;34m','\u001b[0m\u001b[0;34m)\u001b[0m\u001b[0;34m)\u001b[0m\u001b[0;34m\u001b[0m\u001b[0;34m\u001b[0m\u001b[0m\n\u001b[0m\u001b[1;32m     47\u001b[0m         \u001b[0mi\u001b[0m \u001b[0;34m=\u001b[0m \u001b[0mgate\u001b[0m\u001b[0;34m.\u001b[0m\u001b[0mindex\u001b[0m\u001b[0;34m(\u001b[0m\u001b[0;34m'('\u001b[0m\u001b[0;34m)\u001b[0m\u001b[0;34m\u001b[0m\u001b[0;34m\u001b[0m\u001b[0m\n\u001b[1;32m     48\u001b[0m         \u001b[0mgate\u001b[0m \u001b[0;34m=\u001b[0m \u001b[0mgate\u001b[0m\u001b[0;34m[\u001b[0m\u001b[0mi\u001b[0m\u001b[0;34m+\u001b[0m\u001b[0;36m1\u001b[0m\u001b[0;34m:\u001b[0m\u001b[0;34m]\u001b[0m\u001b[0;34m\u001b[0m\u001b[0;34m\u001b[0m\u001b[0m\n",
      "\u001b[0;32m~/.pyenv/versions/3.7.5/lib/python3.7/site-packages/qusetta/_gates.py\u001b[0m in \u001b[0;36m<genexpr>\u001b[0;34m(.0)\u001b[0m\n\u001b[1;32m     44\u001b[0m     \u001b[0;32mif\u001b[0m \u001b[0mg\u001b[0m \u001b[0;32min\u001b[0m \u001b[0mPARAMETER_GATES\u001b[0m\u001b[0;34m:\u001b[0m\u001b[0;34m\u001b[0m\u001b[0;34m\u001b[0m\u001b[0m\n\u001b[1;32m     45\u001b[0m         \u001b[0mj\u001b[0m \u001b[0;34m=\u001b[0m \u001b[0mgate\u001b[0m\u001b[0;34m.\u001b[0m\u001b[0mindex\u001b[0m\u001b[0;34m(\u001b[0m\u001b[0;34m\")\"\u001b[0m\u001b[0;34m)\u001b[0m\u001b[0;34m\u001b[0m\u001b[0;34m\u001b[0m\u001b[0m\n\u001b[0;32m---> 46\u001b[0;31m         \u001b[0mparams\u001b[0m \u001b[0;34m=\u001b[0m \u001b[0mtuple\u001b[0m\u001b[0;34m(\u001b[0m\u001b[0mfloat\u001b[0m\u001b[0;34m(\u001b[0m\u001b[0meval\u001b[0m\u001b[0;34m(\u001b[0m\u001b[0mx\u001b[0m\u001b[0;34m)\u001b[0m\u001b[0;34m)\u001b[0m \u001b[0;32mfor\u001b[0m \u001b[0mx\u001b[0m \u001b[0;32min\u001b[0m \u001b[0mgate\u001b[0m\u001b[0;34m[\u001b[0m\u001b[0;34m:\u001b[0m\u001b[0mj\u001b[0m\u001b[0;34m]\u001b[0m\u001b[0;34m.\u001b[0m\u001b[0msplit\u001b[0m\u001b[0;34m(\u001b[0m\u001b[0;34m','\u001b[0m\u001b[0;34m)\u001b[0m\u001b[0;34m)\u001b[0m\u001b[0;34m\u001b[0m\u001b[0;34m\u001b[0m\u001b[0m\n\u001b[0m\u001b[1;32m     47\u001b[0m         \u001b[0mi\u001b[0m \u001b[0;34m=\u001b[0m \u001b[0mgate\u001b[0m\u001b[0;34m.\u001b[0m\u001b[0mindex\u001b[0m\u001b[0;34m(\u001b[0m\u001b[0;34m'('\u001b[0m\u001b[0;34m)\u001b[0m\u001b[0;34m\u001b[0m\u001b[0;34m\u001b[0m\u001b[0m\n\u001b[1;32m     48\u001b[0m         \u001b[0mgate\u001b[0m \u001b[0;34m=\u001b[0m \u001b[0mgate\u001b[0m\u001b[0;34m[\u001b[0m\u001b[0mi\u001b[0m\u001b[0;34m+\u001b[0m\u001b[0;36m1\u001b[0m\u001b[0;34m:\u001b[0m\u001b[0;34m]\u001b[0m\u001b[0;34m\u001b[0m\u001b[0;34m\u001b[0m\u001b[0m\n",
      "\u001b[0;32m~/.pyenv/versions/3.7.5/lib/python3.7/site-packages/qusetta/_gates.py\u001b[0m in \u001b[0;36m<module>\u001b[0;34m\u001b[0m\n",
      "\u001b[0;31mNameError\u001b[0m: name 'a' is not defined"
     ]
    }
   ],
   "source": [
    "# from qusetta import Qiskit\n",
    "\n",
    "# from qiskit import QuantumCircuit\n",
    "\n",
    "# circ = mcircuit() + mgates.X.on(0) + mgates.X.on(0, [1, 2])\n",
    "# circ.y(2)\n",
    "# circ.z(2)\n",
    "# circ.h(2)\n",
    "# circ += mgates.T(0)\n",
    "# circ += mgates.RX('a').on(0)\n",
    "# circ += mgates.RX(1.2).on(0)\n",
    "\n",
    "# q_circ = to_qiskit(circ)\n",
    "# cirq_circ = Qiskit.from_qiskit(q_circ)\n",
    "\n",
    "# print(circ)\n",
    "# print(q_circ)\n",
    "# print(cirq_circ)"
   ]
  },
  {
   "cell_type": "code",
   "execution_count": 13,
   "metadata": {},
   "outputs": [
    {
     "name": "stdout",
     "output_type": "stream",
     "text": [
      "     ┌───┐                     \n",
      "q_0: ┤ H ├──■──────────────────\n",
      "     └───┘┌─┴─┐┌─────────┐┌───┐\n",
      "q_1: ─────┤ X ├┤ Rx(1.2) ├┤ Z ├\n",
      "          └───┘└─────────┘└───┘\n",
      "     ┌───┐                     \n",
      "q_0: ┤ H ├──■──────────────────\n",
      "     └───┘┌─┴─┐┌─────────┐┌───┐\n",
      "q_1: ─────┤ X ├┤ Rx(1.2) ├┤ Z ├\n",
      "          └───┘└─────────┘└───┘\n"
     ]
    }
   ],
   "source": [
    "# cirq_circuit = Qiskit.from_qiskit(circuit)\n",
    "# print(circuit)\n",
    "# print(cirq_circuit)"
   ]
  },
  {
   "cell_type": "code",
   "execution_count": null,
   "metadata": {},
   "outputs": [],
   "source": []
  }
 ],
 "metadata": {
  "interpreter": {
   "hash": "fe23db6dbd04142dcf620a84033ad5fbdd1968100e6cb68cefa531a9613914d5"
  },
  "kernelspec": {
   "display_name": "Python 3.7.5 64-bit ('3.7.5')",
   "language": "python",
   "name": "python3"
  },
  "language_info": {
   "codemirror_mode": {
    "name": "ipython",
    "version": 3
   },
   "file_extension": ".py",
   "mimetype": "text/x-python",
   "name": "python",
   "nbconvert_exporter": "python",
   "pygments_lexer": "ipython3",
   "version": "3.7.5"
  },
  "orig_nbformat": 4
 },
 "nbformat": 4,
 "nbformat_minor": 2
}
